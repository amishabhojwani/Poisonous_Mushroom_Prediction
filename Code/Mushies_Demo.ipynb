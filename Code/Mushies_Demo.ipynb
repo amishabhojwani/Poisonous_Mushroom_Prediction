{
 "cells": [
  {
   "cell_type": "markdown",
   "id": "c9b2815e",
   "metadata": {},
   "source": [
    "# There's not Much-Room for Error with Mush-rooms\n",
    "\n",
    "<div style=\"text-align: right\"> <sub><sup>* Pun provided by Abi Pearlman</sup></sub></div> "
   ]
  },
  {
   "cell_type": "markdown",
   "id": "7d614a34",
   "metadata": {},
   "source": [
    "## Cleaning\n",
    "---\n",
    "The first part in investigating the mushroom dataset will be quality checking and correcting the data where necessary. To do this I first import any necessary packages that my code will depend on, and define functions that will be useful throughout the project. "
   ]
  },
  {
   "cell_type": "markdown",
   "id": "4c2a4d45",
   "metadata": {},
   "source": [
    "### Dependencies"
   ]
  },
  {
   "cell_type": "code",
   "execution_count": 1,
   "id": "f590e01c",
   "metadata": {},
   "outputs": [],
   "source": [
    "import pandas as pd\n",
    "import numpy as np\n",
    "import seaborn as sns\n",
    "import matplotlib.pyplot as plt"
   ]
  },
  {
   "cell_type": "markdown",
   "id": "5a3ed356",
   "metadata": {},
   "source": [
    "### Useful Functions "
   ]
  },
  {
   "cell_type": "code",
   "execution_count": 2,
   "id": "7d4dcb4f",
   "metadata": {},
   "outputs": [],
   "source": [
    "def key_stats(df):\n",
    "    \n",
    "    '''\n",
    "    Given a data frame, return a description of each column: data type, number of observations, \n",
    "    number of na's and list of unique values.\n",
    "    \n",
    "    INPUT: pandas DataFrame\n",
    "    OUTPUT: pandas DataFrame\n",
    "    \n",
    "    AUTHOR: Jay Acharya\n",
    "    '''\n",
    "    \n",
    "    dtypes = df.dtypes\n",
    "    counts = df.count()\n",
    "    nulls = df.isna().sum()\n",
    "    uniques = df.apply(pd.unique)\n",
    "    \n",
    "    stats = [dtypes, counts, nulls, uniques]\n",
    "    \n",
    "    table = pd.concat(stats, axis = 1).reset_index().rename(columns={'index':'Feature', 0:'dtypes', \n",
    "                                                                     1:'Count', 2:'NAs', 3:'Uniques'})\n",
    "    \n",
    "    return table"
   ]
  },
  {
   "cell_type": "code",
   "execution_count": 3,
   "id": "7f6afcb9",
   "metadata": {},
   "outputs": [],
   "source": [
    "def hued_countplots(colour_by):\n",
    "    \n",
    "    '''\n",
    "    Given a feature in the mushroom dataset, display a countplot for each feature \n",
    "    in the dataset coloured by the input feature.\n",
    "    \n",
    "    INPUT: feature name as a string\n",
    "    OUTPUT: countplot of each feature\n",
    "    \n",
    "    AUTHOR: Amisha Bhojwani\n",
    "    '''\n",
    "    \n",
    "    by_feature = list(mushies.columns)\n",
    "    by_feature.remove(colour_by)\n",
    "    \n",
    "    for col in by_feature:\n",
    "#         fig = plt.figure()\n",
    "        ax = plt.subplot()\n",
    "        sns.countplot(data = mushies, x = col, hue = colour_by)\n",
    "        plt.xticks(rotation = 45)\n",
    "        plt.title(col.replace('_', ' ').title())\n",
    "#         ax.set_xlabel(col.replace('_', ' ').title())\n",
    "#         fig.savefig('Blog/images/'+col+'.jpg')\n",
    "        plt.show()\n",
    "    return"
   ]
  },
  {
   "cell_type": "markdown",
   "id": "3b798dca",
   "metadata": {},
   "source": [
    "### Import Data\n",
    "After defining these imports and functions i bring in the raw data and make a handy copy of it to not have to reimport it if playing with the code later."
   ]
  },
  {
   "cell_type": "code",
   "execution_count": 4,
   "id": "f275b981",
   "metadata": {},
   "outputs": [],
   "source": [
    "df = pd.read_csv('../Data/mushrooms.csv')"
   ]
  },
  {
   "cell_type": "code",
   "execution_count": 5,
   "id": "6fb45930",
   "metadata": {},
   "outputs": [],
   "source": [
    "mushies = df.copy()"
   ]
  },
  {
   "cell_type": "code",
   "execution_count": 6,
   "id": "2c440ab2",
   "metadata": {
    "scrolled": true
   },
   "outputs": [
    {
     "data": {
      "text/html": [
       "<div>\n",
       "<style scoped>\n",
       "    .dataframe tbody tr th:only-of-type {\n",
       "        vertical-align: middle;\n",
       "    }\n",
       "\n",
       "    .dataframe tbody tr th {\n",
       "        vertical-align: top;\n",
       "    }\n",
       "\n",
       "    .dataframe thead th {\n",
       "        text-align: right;\n",
       "    }\n",
       "</style>\n",
       "<table border=\"1\" class=\"dataframe\">\n",
       "  <thead>\n",
       "    <tr style=\"text-align: right;\">\n",
       "      <th></th>\n",
       "      <th>class</th>\n",
       "      <th>cap-shape</th>\n",
       "      <th>cap-surface</th>\n",
       "      <th>cap-color</th>\n",
       "      <th>bruises</th>\n",
       "      <th>odor</th>\n",
       "      <th>gill-attachment</th>\n",
       "      <th>gill-spacing</th>\n",
       "      <th>gill-size</th>\n",
       "      <th>gill-color</th>\n",
       "      <th>...</th>\n",
       "      <th>stalk-surface-below-ring</th>\n",
       "      <th>stalk-color-above-ring</th>\n",
       "      <th>stalk-color-below-ring</th>\n",
       "      <th>veil-type</th>\n",
       "      <th>veil-color</th>\n",
       "      <th>ring-number</th>\n",
       "      <th>ring-type</th>\n",
       "      <th>spore-print-color</th>\n",
       "      <th>population</th>\n",
       "      <th>habitat</th>\n",
       "    </tr>\n",
       "  </thead>\n",
       "  <tbody>\n",
       "    <tr>\n",
       "      <th>0</th>\n",
       "      <td>p</td>\n",
       "      <td>x</td>\n",
       "      <td>s</td>\n",
       "      <td>n</td>\n",
       "      <td>t</td>\n",
       "      <td>p</td>\n",
       "      <td>f</td>\n",
       "      <td>c</td>\n",
       "      <td>n</td>\n",
       "      <td>k</td>\n",
       "      <td>...</td>\n",
       "      <td>s</td>\n",
       "      <td>w</td>\n",
       "      <td>w</td>\n",
       "      <td>p</td>\n",
       "      <td>w</td>\n",
       "      <td>o</td>\n",
       "      <td>p</td>\n",
       "      <td>k</td>\n",
       "      <td>s</td>\n",
       "      <td>u</td>\n",
       "    </tr>\n",
       "    <tr>\n",
       "      <th>1</th>\n",
       "      <td>e</td>\n",
       "      <td>x</td>\n",
       "      <td>s</td>\n",
       "      <td>y</td>\n",
       "      <td>t</td>\n",
       "      <td>a</td>\n",
       "      <td>f</td>\n",
       "      <td>c</td>\n",
       "      <td>b</td>\n",
       "      <td>k</td>\n",
       "      <td>...</td>\n",
       "      <td>s</td>\n",
       "      <td>w</td>\n",
       "      <td>w</td>\n",
       "      <td>p</td>\n",
       "      <td>w</td>\n",
       "      <td>o</td>\n",
       "      <td>p</td>\n",
       "      <td>n</td>\n",
       "      <td>n</td>\n",
       "      <td>g</td>\n",
       "    </tr>\n",
       "    <tr>\n",
       "      <th>2</th>\n",
       "      <td>e</td>\n",
       "      <td>b</td>\n",
       "      <td>s</td>\n",
       "      <td>w</td>\n",
       "      <td>t</td>\n",
       "      <td>l</td>\n",
       "      <td>f</td>\n",
       "      <td>c</td>\n",
       "      <td>b</td>\n",
       "      <td>n</td>\n",
       "      <td>...</td>\n",
       "      <td>s</td>\n",
       "      <td>w</td>\n",
       "      <td>w</td>\n",
       "      <td>p</td>\n",
       "      <td>w</td>\n",
       "      <td>o</td>\n",
       "      <td>p</td>\n",
       "      <td>n</td>\n",
       "      <td>n</td>\n",
       "      <td>m</td>\n",
       "    </tr>\n",
       "    <tr>\n",
       "      <th>3</th>\n",
       "      <td>p</td>\n",
       "      <td>x</td>\n",
       "      <td>y</td>\n",
       "      <td>w</td>\n",
       "      <td>t</td>\n",
       "      <td>p</td>\n",
       "      <td>f</td>\n",
       "      <td>c</td>\n",
       "      <td>n</td>\n",
       "      <td>n</td>\n",
       "      <td>...</td>\n",
       "      <td>s</td>\n",
       "      <td>w</td>\n",
       "      <td>w</td>\n",
       "      <td>p</td>\n",
       "      <td>w</td>\n",
       "      <td>o</td>\n",
       "      <td>p</td>\n",
       "      <td>k</td>\n",
       "      <td>s</td>\n",
       "      <td>u</td>\n",
       "    </tr>\n",
       "    <tr>\n",
       "      <th>4</th>\n",
       "      <td>e</td>\n",
       "      <td>x</td>\n",
       "      <td>s</td>\n",
       "      <td>g</td>\n",
       "      <td>f</td>\n",
       "      <td>n</td>\n",
       "      <td>f</td>\n",
       "      <td>w</td>\n",
       "      <td>b</td>\n",
       "      <td>k</td>\n",
       "      <td>...</td>\n",
       "      <td>s</td>\n",
       "      <td>w</td>\n",
       "      <td>w</td>\n",
       "      <td>p</td>\n",
       "      <td>w</td>\n",
       "      <td>o</td>\n",
       "      <td>e</td>\n",
       "      <td>n</td>\n",
       "      <td>a</td>\n",
       "      <td>g</td>\n",
       "    </tr>\n",
       "  </tbody>\n",
       "</table>\n",
       "<p>5 rows × 23 columns</p>\n",
       "</div>"
      ],
      "text/plain": [
       "  class cap-shape cap-surface cap-color bruises odor gill-attachment  \\\n",
       "0     p         x           s         n       t    p               f   \n",
       "1     e         x           s         y       t    a               f   \n",
       "2     e         b           s         w       t    l               f   \n",
       "3     p         x           y         w       t    p               f   \n",
       "4     e         x           s         g       f    n               f   \n",
       "\n",
       "  gill-spacing gill-size gill-color  ... stalk-surface-below-ring  \\\n",
       "0            c         n          k  ...                        s   \n",
       "1            c         b          k  ...                        s   \n",
       "2            c         b          n  ...                        s   \n",
       "3            c         n          n  ...                        s   \n",
       "4            w         b          k  ...                        s   \n",
       "\n",
       "  stalk-color-above-ring stalk-color-below-ring veil-type veil-color  \\\n",
       "0                      w                      w         p          w   \n",
       "1                      w                      w         p          w   \n",
       "2                      w                      w         p          w   \n",
       "3                      w                      w         p          w   \n",
       "4                      w                      w         p          w   \n",
       "\n",
       "  ring-number ring-type spore-print-color population habitat  \n",
       "0           o         p                 k          s       u  \n",
       "1           o         p                 n          n       g  \n",
       "2           o         p                 n          n       m  \n",
       "3           o         p                 k          s       u  \n",
       "4           o         e                 n          a       g  \n",
       "\n",
       "[5 rows x 23 columns]"
      ]
     },
     "execution_count": 6,
     "metadata": {},
     "output_type": "execute_result"
    }
   ],
   "source": [
    "mushies.head()"
   ]
  },
  {
   "cell_type": "markdown",
   "id": "62b694d5",
   "metadata": {},
   "source": [
    " The data is described as: \n",
    " > This dataset includes descriptions of hypothetical samples corresponding to 23 species of gilled mushrooms in the Agaricus and Lepiota Family Mushroom drawn from The Audubon Society Field Guide to North American Mushrooms (1981). Each species is identified as definitely edible, definitely poisonous, or of unknown edibility and not recommended. This latter class was combined with the poisonous one. The Guide clearly states that there is no simple rule for determining the edibility of a mushroom; no rule like \"leaflets three, let it be'' for Poisonous Oak and Ivy. \n",
    " *Source: [Mushroom Dataset (Kaggle)](https://www.kaggle.com/uciml/mushroom-classification)*\n",
    " \n",
    " Let's take a look at a summary of the dataframe by feature: "
   ]
  },
  {
   "cell_type": "code",
   "execution_count": null,
   "id": "680749b6",
   "metadata": {},
   "outputs": [],
   "source": [
    "key_stats(mushies)"
   ]
  },
  {
   "cell_type": "markdown",
   "id": "14b9a70d",
   "metadata": {},
   "source": [
    "The names of features have dashes between words rather than underscores, which could be bothersome in Python code later. I also see that the labels within each feature aren't very descriptive. Correcting these will be my first two challenges."
   ]
  },
  {
   "cell_type": "markdown",
   "id": "f6d1a8e2",
   "metadata": {},
   "source": [
    "### Renaming columns and category labels\n",
    "I will start with getting full labels for each category. I copy the data dictionary from kaggle as a string in triple quotes in hopes of turning it into a dictionary that I can use to map the current labels in the raw data."
   ]
  },
  {
   "cell_type": "code",
   "execution_count": 7,
   "id": "1404f471",
   "metadata": {},
   "outputs": [],
   "source": [
    "# FORMAT INTO A DICTIONARY OF DICTIONARIES WHERE SUPER KEYS ARE FEATURE COLUMNS AND INFRA KEYS ARE LABELS\n",
    "dic = '''class: edible=e, poisonous=p\n",
    "cap-shape: bell=b,conical=c,convex=x,flat=f, knobbed=k,sunken=s\n",
    "cap-surface: fibrous=f,grooves=g,scaly=y,smooth=s\n",
    "cap-color: brown=n,buff=b,cinnamon=c,gray=g,green=r,pink=p,purple=u,red=e,white=w,yellow=y\n",
    "bruises: bruises=t,no=f\n",
    "odor: almond=a,anise=l,creosote=c,fishy=y,foul=f,musty=m,none=n,pungent=p,spicy=s\n",
    "gill-attachment: attached=a,descending=d,free=f,notched=n\n",
    "gill-spacing: close=c,crowded=w,distant=d\n",
    "gill-size: broad=b,narrow=n\n",
    "gill-color: black=k,brown=n,buff=b,chocolate=h,gray=g, green=r,orange=o,pink=p,purple=u,red=e,white=w,yellow=y\n",
    "stalk-shape: enlarging=e,tapering=t\n",
    "stalk-root: bulbous=b,club=c,cup=u,equal=e,rhizomorphs=z,rooted=r,missing=?\n",
    "stalk-surface-above-ring: fibrous=f,scaly=y,silky=k,smooth=s\n",
    "stalk-surface-below-ring: fibrous=f,scaly=y,silky=k,smooth=s\n",
    "stalk-color-above-ring: brown=n,buff=b,cinnamon=c,gray=g,orange=o,pink=p,red=e,white=w,yellow=y\n",
    "stalk-color-below-ring: brown=n,buff=b,cinnamon=c,gray=g,orange=o,pink=p,red=e,white=w,yellow=y\n",
    "veil-type: partial=p,universal=u\n",
    "veil-color: brown=n,orange=o,white=w,yellow=y\n",
    "ring-number: none=n,one=o,two=t\n",
    "ring-type: cobwebby=c,evanescent=e,flaring=f,large=l,none=n,pendant=p,sheathing=s,zone=z\n",
    "spore-print-color: black=k,brown=n,buff=b,chocolate=h,green=r,orange=o,purple=u,white=w,yellow=y\n",
    "population: abundant=a,clustered=c,numerous=n,scattered=s,several=v,solitary=y\n",
    "habitat: grasses=g,leaves=l,meadows=m,paths=p,urban=u,waste=w,woods=d'''\n",
    "\n",
    "# SPLITTING THE DICTIONARY BY NEWLINE CHARACTERS, SEPARATING FEATURES\n",
    "dic = dic.split('\\n')"
   ]
  },
  {
   "cell_type": "code",
   "execution_count": 8,
   "id": "5eeeb0f1",
   "metadata": {},
   "outputs": [],
   "source": [
    "# REFORMAT THE DICTIONARY BY APPENDING TO A NEW ONE\n",
    "mushies_dic = {}\n",
    "for elem in dic: # iterate through features\n",
    "    col_split = elem.split(':') # separate feature names from labels\n",
    "    label_split = col_split[1].strip().split(',') # separate each label\n",
    "    for lbls in label_split:\n",
    "        lbls = lbls.replace('=', ':')\n",
    "        mini_dic = {lbls.split('=')[1].strip(): lbls.split('=')[0].strip() for lbls in label_split} # switch key and value for usability later\n",
    "    mushies_dic[col_split[0]] = mini_dic # append to new dictionary"
   ]
  },
  {
   "cell_type": "markdown",
   "id": "ffc5b8e4",
   "metadata": {},
   "source": [
    "Let's see how that worked. First looking at the top most keys, which should be features:"
   ]
  },
  {
   "cell_type": "code",
   "execution_count": null,
   "id": "ea8ed466",
   "metadata": {},
   "outputs": [],
   "source": [
    "mushies_dic.keys()"
   ]
  },
  {
   "cell_type": "markdown",
   "id": "c0682ad4",
   "metadata": {},
   "source": [
    "Looks good! The values for these keys should be dictionaries; with keys as the labels in our raw data and their values as the labels from the data dictionary:"
   ]
  },
  {
   "cell_type": "code",
   "execution_count": null,
   "id": "69210a01",
   "metadata": {},
   "outputs": [],
   "source": [
    "mushies_dic.values()"
   ]
  },
  {
   "cell_type": "markdown",
   "id": "c0b602bd",
   "metadata": {},
   "source": [
    "With this dictionary I can replace the letter labels in our raw data with full words from the data dictionary. Then I can look at the description of each feature again."
   ]
  },
  {
   "cell_type": "code",
   "execution_count": 9,
   "id": "9003d74e",
   "metadata": {},
   "outputs": [
    {
     "data": {
      "text/html": [
       "<div>\n",
       "<style scoped>\n",
       "    .dataframe tbody tr th:only-of-type {\n",
       "        vertical-align: middle;\n",
       "    }\n",
       "\n",
       "    .dataframe tbody tr th {\n",
       "        vertical-align: top;\n",
       "    }\n",
       "\n",
       "    .dataframe thead th {\n",
       "        text-align: right;\n",
       "    }\n",
       "</style>\n",
       "<table border=\"1\" class=\"dataframe\">\n",
       "  <thead>\n",
       "    <tr style=\"text-align: right;\">\n",
       "      <th></th>\n",
       "      <th>Feature</th>\n",
       "      <th>dtypes</th>\n",
       "      <th>Count</th>\n",
       "      <th>NAs</th>\n",
       "      <th>Uniques</th>\n",
       "    </tr>\n",
       "  </thead>\n",
       "  <tbody>\n",
       "    <tr>\n",
       "      <th>0</th>\n",
       "      <td>class</td>\n",
       "      <td>object</td>\n",
       "      <td>8124</td>\n",
       "      <td>0</td>\n",
       "      <td>[poisonous, edible]</td>\n",
       "    </tr>\n",
       "    <tr>\n",
       "      <th>1</th>\n",
       "      <td>cap-shape</td>\n",
       "      <td>object</td>\n",
       "      <td>8124</td>\n",
       "      <td>0</td>\n",
       "      <td>[convex, bell, sunken, flat, knobbed, conical]</td>\n",
       "    </tr>\n",
       "    <tr>\n",
       "      <th>2</th>\n",
       "      <td>cap-surface</td>\n",
       "      <td>object</td>\n",
       "      <td>8124</td>\n",
       "      <td>0</td>\n",
       "      <td>[smooth, scaly, fibrous, grooves]</td>\n",
       "    </tr>\n",
       "    <tr>\n",
       "      <th>3</th>\n",
       "      <td>cap-color</td>\n",
       "      <td>object</td>\n",
       "      <td>8124</td>\n",
       "      <td>0</td>\n",
       "      <td>[brown, yellow, white, gray, red, pink, buff, ...</td>\n",
       "    </tr>\n",
       "    <tr>\n",
       "      <th>4</th>\n",
       "      <td>bruises</td>\n",
       "      <td>object</td>\n",
       "      <td>8124</td>\n",
       "      <td>0</td>\n",
       "      <td>[bruises, no]</td>\n",
       "    </tr>\n",
       "    <tr>\n",
       "      <th>5</th>\n",
       "      <td>odor</td>\n",
       "      <td>object</td>\n",
       "      <td>8124</td>\n",
       "      <td>0</td>\n",
       "      <td>[pungent, almond, anise, none, foul, creosote,...</td>\n",
       "    </tr>\n",
       "    <tr>\n",
       "      <th>6</th>\n",
       "      <td>gill-attachment</td>\n",
       "      <td>object</td>\n",
       "      <td>8124</td>\n",
       "      <td>0</td>\n",
       "      <td>[free, attached]</td>\n",
       "    </tr>\n",
       "    <tr>\n",
       "      <th>7</th>\n",
       "      <td>gill-spacing</td>\n",
       "      <td>object</td>\n",
       "      <td>8124</td>\n",
       "      <td>0</td>\n",
       "      <td>[close, crowded]</td>\n",
       "    </tr>\n",
       "    <tr>\n",
       "      <th>8</th>\n",
       "      <td>gill-size</td>\n",
       "      <td>object</td>\n",
       "      <td>8124</td>\n",
       "      <td>0</td>\n",
       "      <td>[narrow, broad]</td>\n",
       "    </tr>\n",
       "    <tr>\n",
       "      <th>9</th>\n",
       "      <td>gill-color</td>\n",
       "      <td>object</td>\n",
       "      <td>8124</td>\n",
       "      <td>0</td>\n",
       "      <td>[black, brown, gray, pink, white, chocolate, p...</td>\n",
       "    </tr>\n",
       "    <tr>\n",
       "      <th>10</th>\n",
       "      <td>stalk-shape</td>\n",
       "      <td>object</td>\n",
       "      <td>8124</td>\n",
       "      <td>0</td>\n",
       "      <td>[enlarging, tapering]</td>\n",
       "    </tr>\n",
       "    <tr>\n",
       "      <th>11</th>\n",
       "      <td>stalk-root</td>\n",
       "      <td>object</td>\n",
       "      <td>8124</td>\n",
       "      <td>0</td>\n",
       "      <td>[equal, club, bulbous, rooted, missing]</td>\n",
       "    </tr>\n",
       "    <tr>\n",
       "      <th>12</th>\n",
       "      <td>stalk-surface-above-ring</td>\n",
       "      <td>object</td>\n",
       "      <td>8124</td>\n",
       "      <td>0</td>\n",
       "      <td>[smooth, fibrous, silky, scaly]</td>\n",
       "    </tr>\n",
       "    <tr>\n",
       "      <th>13</th>\n",
       "      <td>stalk-surface-below-ring</td>\n",
       "      <td>object</td>\n",
       "      <td>8124</td>\n",
       "      <td>0</td>\n",
       "      <td>[smooth, fibrous, scaly, silky]</td>\n",
       "    </tr>\n",
       "    <tr>\n",
       "      <th>14</th>\n",
       "      <td>stalk-color-above-ring</td>\n",
       "      <td>object</td>\n",
       "      <td>8124</td>\n",
       "      <td>0</td>\n",
       "      <td>[white, gray, pink, brown, buff, red, orange, ...</td>\n",
       "    </tr>\n",
       "    <tr>\n",
       "      <th>15</th>\n",
       "      <td>stalk-color-below-ring</td>\n",
       "      <td>object</td>\n",
       "      <td>8124</td>\n",
       "      <td>0</td>\n",
       "      <td>[white, pink, gray, buff, brown, red, yellow, ...</td>\n",
       "    </tr>\n",
       "    <tr>\n",
       "      <th>16</th>\n",
       "      <td>veil-type</td>\n",
       "      <td>object</td>\n",
       "      <td>8124</td>\n",
       "      <td>0</td>\n",
       "      <td>[partial]</td>\n",
       "    </tr>\n",
       "    <tr>\n",
       "      <th>17</th>\n",
       "      <td>veil-color</td>\n",
       "      <td>object</td>\n",
       "      <td>8124</td>\n",
       "      <td>0</td>\n",
       "      <td>[white, brown, orange, yellow]</td>\n",
       "    </tr>\n",
       "    <tr>\n",
       "      <th>18</th>\n",
       "      <td>ring-number</td>\n",
       "      <td>object</td>\n",
       "      <td>8124</td>\n",
       "      <td>0</td>\n",
       "      <td>[one, two, none]</td>\n",
       "    </tr>\n",
       "    <tr>\n",
       "      <th>19</th>\n",
       "      <td>ring-type</td>\n",
       "      <td>object</td>\n",
       "      <td>8124</td>\n",
       "      <td>0</td>\n",
       "      <td>[pendant, evanescent, large, flaring, none]</td>\n",
       "    </tr>\n",
       "    <tr>\n",
       "      <th>20</th>\n",
       "      <td>spore-print-color</td>\n",
       "      <td>object</td>\n",
       "      <td>8124</td>\n",
       "      <td>0</td>\n",
       "      <td>[black, brown, purple, chocolate, white, green...</td>\n",
       "    </tr>\n",
       "    <tr>\n",
       "      <th>21</th>\n",
       "      <td>population</td>\n",
       "      <td>object</td>\n",
       "      <td>8124</td>\n",
       "      <td>0</td>\n",
       "      <td>[scattered, numerous, abundant, several, solit...</td>\n",
       "    </tr>\n",
       "    <tr>\n",
       "      <th>22</th>\n",
       "      <td>habitat</td>\n",
       "      <td>object</td>\n",
       "      <td>8124</td>\n",
       "      <td>0</td>\n",
       "      <td>[urban, grasses, meadows, woods, paths, waste,...</td>\n",
       "    </tr>\n",
       "  </tbody>\n",
       "</table>\n",
       "</div>"
      ],
      "text/plain": [
       "                     Feature  dtypes  Count  NAs  \\\n",
       "0                      class  object   8124    0   \n",
       "1                  cap-shape  object   8124    0   \n",
       "2                cap-surface  object   8124    0   \n",
       "3                  cap-color  object   8124    0   \n",
       "4                    bruises  object   8124    0   \n",
       "5                       odor  object   8124    0   \n",
       "6            gill-attachment  object   8124    0   \n",
       "7               gill-spacing  object   8124    0   \n",
       "8                  gill-size  object   8124    0   \n",
       "9                 gill-color  object   8124    0   \n",
       "10               stalk-shape  object   8124    0   \n",
       "11                stalk-root  object   8124    0   \n",
       "12  stalk-surface-above-ring  object   8124    0   \n",
       "13  stalk-surface-below-ring  object   8124    0   \n",
       "14    stalk-color-above-ring  object   8124    0   \n",
       "15    stalk-color-below-ring  object   8124    0   \n",
       "16                 veil-type  object   8124    0   \n",
       "17                veil-color  object   8124    0   \n",
       "18               ring-number  object   8124    0   \n",
       "19                 ring-type  object   8124    0   \n",
       "20         spore-print-color  object   8124    0   \n",
       "21                population  object   8124    0   \n",
       "22                   habitat  object   8124    0   \n",
       "\n",
       "                                              Uniques  \n",
       "0                                 [poisonous, edible]  \n",
       "1      [convex, bell, sunken, flat, knobbed, conical]  \n",
       "2                   [smooth, scaly, fibrous, grooves]  \n",
       "3   [brown, yellow, white, gray, red, pink, buff, ...  \n",
       "4                                       [bruises, no]  \n",
       "5   [pungent, almond, anise, none, foul, creosote,...  \n",
       "6                                    [free, attached]  \n",
       "7                                    [close, crowded]  \n",
       "8                                     [narrow, broad]  \n",
       "9   [black, brown, gray, pink, white, chocolate, p...  \n",
       "10                              [enlarging, tapering]  \n",
       "11            [equal, club, bulbous, rooted, missing]  \n",
       "12                    [smooth, fibrous, silky, scaly]  \n",
       "13                    [smooth, fibrous, scaly, silky]  \n",
       "14  [white, gray, pink, brown, buff, red, orange, ...  \n",
       "15  [white, pink, gray, buff, brown, red, yellow, ...  \n",
       "16                                          [partial]  \n",
       "17                     [white, brown, orange, yellow]  \n",
       "18                                   [one, two, none]  \n",
       "19        [pendant, evanescent, large, flaring, none]  \n",
       "20  [black, brown, purple, chocolate, white, green...  \n",
       "21  [scattered, numerous, abundant, several, solit...  \n",
       "22  [urban, grasses, meadows, woods, paths, waste,...  "
      ]
     },
     "execution_count": 9,
     "metadata": {},
     "output_type": "execute_result"
    }
   ],
   "source": [
    "mushies = mushies.replace(mushies_dic)\n",
    "key_stats(mushies)"
   ]
  },
  {
   "cell_type": "markdown",
   "id": "41b8982f",
   "metadata": {},
   "source": [
    "In *stalk-root* there is a label called 'missing', and there is only one veil type. But first, I wonder if there are any labels that were in the data dictionary that are not present in our data:"
   ]
  },
  {
   "cell_type": "code",
   "execution_count": 10,
   "id": "b8ad75f9",
   "metadata": {},
   "outputs": [
    {
     "data": {
      "text/plain": [
       "{'gill-attachment': ['descending', 'notched'],\n",
       " 'gill-spacing': ['distant'],\n",
       " 'stalk-root': ['cup', 'rhizomorphs'],\n",
       " 'veil-type': ['universal'],\n",
       " 'ring-type': ['cobwebby', 'sheathing', 'zone']}"
      ]
     },
     "execution_count": 10,
     "metadata": {},
     "output_type": "execute_result"
    }
   ],
   "source": [
    "cols, vals = [], []\n",
    "for col in mushies.columns: # iterate through features\n",
    "    missing_col = []\n",
    "    for val in mushies_dic[col].values(): # iterate through labels\n",
    "        if mushies[col].str.contains(val).any(): # check for matches with the dictionary\n",
    "            continue\n",
    "        else: missing_col.append(val)\n",
    "    if len(missing_col)!=0: cols.append(col), vals.append(missing_col)\n",
    "\n",
    "dict(zip(cols, vals))"
   ]
  },
  {
   "cell_type": "markdown",
   "id": "01e79786",
   "metadata": {},
   "source": [
    "There are four features which could have more labels, meaning the data that has been hypothetically collected may not be representative of the full population of Agaricus and Lepiota genus.\n",
    "\n",
    "With this identified, we can move on to the next task, renaming the columns with PEP8 friendly syntax:"
   ]
  },
  {
   "cell_type": "code",
   "execution_count": 11,
   "id": "dcd6ac06",
   "metadata": {},
   "outputs": [],
   "source": [
    "# CHANGING DF COLNAMES TO HAVE UNDERSCORE INSTEAD OF DASH\n",
    "old_cnames = mushies.columns\n",
    "new_cnames = [name.replace('-', '_') for name in old_cnames]\n",
    "mushies.rename(columns = dict(zip(old_cnames,new_cnames)), inplace = True)"
   ]
  },
  {
   "cell_type": "markdown",
   "id": "81fd9a63",
   "metadata": {},
   "source": [
    "Finally I class missing data as NA and have one last look at the summary."
   ]
  },
  {
   "cell_type": "code",
   "execution_count": 12,
   "id": "a1a9d88d",
   "metadata": {},
   "outputs": [],
   "source": [
    "mushies['stalk_root'].replace('missing', np.nan, inplace = True)"
   ]
  },
  {
   "cell_type": "code",
   "execution_count": 13,
   "id": "56f7b949",
   "metadata": {},
   "outputs": [
    {
     "data": {
      "text/html": [
       "<div>\n",
       "<style scoped>\n",
       "    .dataframe tbody tr th:only-of-type {\n",
       "        vertical-align: middle;\n",
       "    }\n",
       "\n",
       "    .dataframe tbody tr th {\n",
       "        vertical-align: top;\n",
       "    }\n",
       "\n",
       "    .dataframe thead th {\n",
       "        text-align: right;\n",
       "    }\n",
       "</style>\n",
       "<table border=\"1\" class=\"dataframe\">\n",
       "  <thead>\n",
       "    <tr style=\"text-align: right;\">\n",
       "      <th></th>\n",
       "      <th>Feature</th>\n",
       "      <th>dtypes</th>\n",
       "      <th>Count</th>\n",
       "      <th>NAs</th>\n",
       "      <th>Uniques</th>\n",
       "    </tr>\n",
       "  </thead>\n",
       "  <tbody>\n",
       "    <tr>\n",
       "      <th>0</th>\n",
       "      <td>class</td>\n",
       "      <td>object</td>\n",
       "      <td>8124</td>\n",
       "      <td>0</td>\n",
       "      <td>[poisonous, edible]</td>\n",
       "    </tr>\n",
       "    <tr>\n",
       "      <th>1</th>\n",
       "      <td>cap_shape</td>\n",
       "      <td>object</td>\n",
       "      <td>8124</td>\n",
       "      <td>0</td>\n",
       "      <td>[convex, bell, sunken, flat, knobbed, conical]</td>\n",
       "    </tr>\n",
       "    <tr>\n",
       "      <th>2</th>\n",
       "      <td>cap_surface</td>\n",
       "      <td>object</td>\n",
       "      <td>8124</td>\n",
       "      <td>0</td>\n",
       "      <td>[smooth, scaly, fibrous, grooves]</td>\n",
       "    </tr>\n",
       "    <tr>\n",
       "      <th>3</th>\n",
       "      <td>cap_color</td>\n",
       "      <td>object</td>\n",
       "      <td>8124</td>\n",
       "      <td>0</td>\n",
       "      <td>[brown, yellow, white, gray, red, pink, buff, ...</td>\n",
       "    </tr>\n",
       "    <tr>\n",
       "      <th>4</th>\n",
       "      <td>bruises</td>\n",
       "      <td>object</td>\n",
       "      <td>8124</td>\n",
       "      <td>0</td>\n",
       "      <td>[bruises, no]</td>\n",
       "    </tr>\n",
       "    <tr>\n",
       "      <th>5</th>\n",
       "      <td>odor</td>\n",
       "      <td>object</td>\n",
       "      <td>8124</td>\n",
       "      <td>0</td>\n",
       "      <td>[pungent, almond, anise, none, foul, creosote,...</td>\n",
       "    </tr>\n",
       "    <tr>\n",
       "      <th>6</th>\n",
       "      <td>gill_attachment</td>\n",
       "      <td>object</td>\n",
       "      <td>8124</td>\n",
       "      <td>0</td>\n",
       "      <td>[free, attached]</td>\n",
       "    </tr>\n",
       "    <tr>\n",
       "      <th>7</th>\n",
       "      <td>gill_spacing</td>\n",
       "      <td>object</td>\n",
       "      <td>8124</td>\n",
       "      <td>0</td>\n",
       "      <td>[close, crowded]</td>\n",
       "    </tr>\n",
       "    <tr>\n",
       "      <th>8</th>\n",
       "      <td>gill_size</td>\n",
       "      <td>object</td>\n",
       "      <td>8124</td>\n",
       "      <td>0</td>\n",
       "      <td>[narrow, broad]</td>\n",
       "    </tr>\n",
       "    <tr>\n",
       "      <th>9</th>\n",
       "      <td>gill_color</td>\n",
       "      <td>object</td>\n",
       "      <td>8124</td>\n",
       "      <td>0</td>\n",
       "      <td>[black, brown, gray, pink, white, chocolate, p...</td>\n",
       "    </tr>\n",
       "    <tr>\n",
       "      <th>10</th>\n",
       "      <td>stalk_shape</td>\n",
       "      <td>object</td>\n",
       "      <td>8124</td>\n",
       "      <td>0</td>\n",
       "      <td>[enlarging, tapering]</td>\n",
       "    </tr>\n",
       "    <tr>\n",
       "      <th>11</th>\n",
       "      <td>stalk_root</td>\n",
       "      <td>object</td>\n",
       "      <td>5644</td>\n",
       "      <td>2480</td>\n",
       "      <td>[equal, club, bulbous, rooted, nan]</td>\n",
       "    </tr>\n",
       "    <tr>\n",
       "      <th>12</th>\n",
       "      <td>stalk_surface_above_ring</td>\n",
       "      <td>object</td>\n",
       "      <td>8124</td>\n",
       "      <td>0</td>\n",
       "      <td>[smooth, fibrous, silky, scaly]</td>\n",
       "    </tr>\n",
       "    <tr>\n",
       "      <th>13</th>\n",
       "      <td>stalk_surface_below_ring</td>\n",
       "      <td>object</td>\n",
       "      <td>8124</td>\n",
       "      <td>0</td>\n",
       "      <td>[smooth, fibrous, scaly, silky]</td>\n",
       "    </tr>\n",
       "    <tr>\n",
       "      <th>14</th>\n",
       "      <td>stalk_color_above_ring</td>\n",
       "      <td>object</td>\n",
       "      <td>8124</td>\n",
       "      <td>0</td>\n",
       "      <td>[white, gray, pink, brown, buff, red, orange, ...</td>\n",
       "    </tr>\n",
       "    <tr>\n",
       "      <th>15</th>\n",
       "      <td>stalk_color_below_ring</td>\n",
       "      <td>object</td>\n",
       "      <td>8124</td>\n",
       "      <td>0</td>\n",
       "      <td>[white, pink, gray, buff, brown, red, yellow, ...</td>\n",
       "    </tr>\n",
       "    <tr>\n",
       "      <th>16</th>\n",
       "      <td>veil_type</td>\n",
       "      <td>object</td>\n",
       "      <td>8124</td>\n",
       "      <td>0</td>\n",
       "      <td>[partial]</td>\n",
       "    </tr>\n",
       "    <tr>\n",
       "      <th>17</th>\n",
       "      <td>veil_color</td>\n",
       "      <td>object</td>\n",
       "      <td>8124</td>\n",
       "      <td>0</td>\n",
       "      <td>[white, brown, orange, yellow]</td>\n",
       "    </tr>\n",
       "    <tr>\n",
       "      <th>18</th>\n",
       "      <td>ring_number</td>\n",
       "      <td>object</td>\n",
       "      <td>8124</td>\n",
       "      <td>0</td>\n",
       "      <td>[one, two, none]</td>\n",
       "    </tr>\n",
       "    <tr>\n",
       "      <th>19</th>\n",
       "      <td>ring_type</td>\n",
       "      <td>object</td>\n",
       "      <td>8124</td>\n",
       "      <td>0</td>\n",
       "      <td>[pendant, evanescent, large, flaring, none]</td>\n",
       "    </tr>\n",
       "    <tr>\n",
       "      <th>20</th>\n",
       "      <td>spore_print_color</td>\n",
       "      <td>object</td>\n",
       "      <td>8124</td>\n",
       "      <td>0</td>\n",
       "      <td>[black, brown, purple, chocolate, white, green...</td>\n",
       "    </tr>\n",
       "    <tr>\n",
       "      <th>21</th>\n",
       "      <td>population</td>\n",
       "      <td>object</td>\n",
       "      <td>8124</td>\n",
       "      <td>0</td>\n",
       "      <td>[scattered, numerous, abundant, several, solit...</td>\n",
       "    </tr>\n",
       "    <tr>\n",
       "      <th>22</th>\n",
       "      <td>habitat</td>\n",
       "      <td>object</td>\n",
       "      <td>8124</td>\n",
       "      <td>0</td>\n",
       "      <td>[urban, grasses, meadows, woods, paths, waste,...</td>\n",
       "    </tr>\n",
       "  </tbody>\n",
       "</table>\n",
       "</div>"
      ],
      "text/plain": [
       "                     Feature  dtypes  Count   NAs  \\\n",
       "0                      class  object   8124     0   \n",
       "1                  cap_shape  object   8124     0   \n",
       "2                cap_surface  object   8124     0   \n",
       "3                  cap_color  object   8124     0   \n",
       "4                    bruises  object   8124     0   \n",
       "5                       odor  object   8124     0   \n",
       "6            gill_attachment  object   8124     0   \n",
       "7               gill_spacing  object   8124     0   \n",
       "8                  gill_size  object   8124     0   \n",
       "9                 gill_color  object   8124     0   \n",
       "10               stalk_shape  object   8124     0   \n",
       "11                stalk_root  object   5644  2480   \n",
       "12  stalk_surface_above_ring  object   8124     0   \n",
       "13  stalk_surface_below_ring  object   8124     0   \n",
       "14    stalk_color_above_ring  object   8124     0   \n",
       "15    stalk_color_below_ring  object   8124     0   \n",
       "16                 veil_type  object   8124     0   \n",
       "17                veil_color  object   8124     0   \n",
       "18               ring_number  object   8124     0   \n",
       "19                 ring_type  object   8124     0   \n",
       "20         spore_print_color  object   8124     0   \n",
       "21                population  object   8124     0   \n",
       "22                   habitat  object   8124     0   \n",
       "\n",
       "                                              Uniques  \n",
       "0                                 [poisonous, edible]  \n",
       "1      [convex, bell, sunken, flat, knobbed, conical]  \n",
       "2                   [smooth, scaly, fibrous, grooves]  \n",
       "3   [brown, yellow, white, gray, red, pink, buff, ...  \n",
       "4                                       [bruises, no]  \n",
       "5   [pungent, almond, anise, none, foul, creosote,...  \n",
       "6                                    [free, attached]  \n",
       "7                                    [close, crowded]  \n",
       "8                                     [narrow, broad]  \n",
       "9   [black, brown, gray, pink, white, chocolate, p...  \n",
       "10                              [enlarging, tapering]  \n",
       "11                [equal, club, bulbous, rooted, nan]  \n",
       "12                    [smooth, fibrous, silky, scaly]  \n",
       "13                    [smooth, fibrous, scaly, silky]  \n",
       "14  [white, gray, pink, brown, buff, red, orange, ...  \n",
       "15  [white, pink, gray, buff, brown, red, yellow, ...  \n",
       "16                                          [partial]  \n",
       "17                     [white, brown, orange, yellow]  \n",
       "18                                   [one, two, none]  \n",
       "19        [pendant, evanescent, large, flaring, none]  \n",
       "20  [black, brown, purple, chocolate, white, green...  \n",
       "21  [scattered, numerous, abundant, several, solit...  \n",
       "22  [urban, grasses, meadows, woods, paths, waste,...  "
      ]
     },
     "execution_count": 13,
     "metadata": {},
     "output_type": "execute_result"
    }
   ],
   "source": [
    "key_stats(mushies)"
   ]
  },
  {
   "cell_type": "code",
   "execution_count": null,
   "id": "1964c5bb",
   "metadata": {},
   "outputs": [],
   "source": [
    "mushies.head()"
   ]
  },
  {
   "cell_type": "markdown",
   "id": "4d211ea0",
   "metadata": {},
   "source": [
    "## EDA \n",
    "---\n",
    "The next step in working with the mushroom data is to understand what the data looks like and how it's distributed. To do this, since the data is all categorical, I use countplots. Because my target variable is binary (a mushroom is either edible or poisonous), i want to view my data with this in mind, to tell if there are any features which may differentiate these classes. "
   ]
  },
  {
   "cell_type": "code",
   "execution_count": null,
   "id": "c7dbb7d3",
   "metadata": {},
   "outputs": [],
   "source": [
    "# for col in mushies.columns: # iterate through columns and produce a countplot\n",
    "#     ax = plt.subplot()\n",
    "#     sns.countplot(data = mushies, x = col)\n",
    "#     plt.xticks(rotation = 45)\n",
    "#     ax.set_xlabel(col.replace('_', ' ').title())\n",
    "#     plt.show()"
   ]
  },
  {
   "cell_type": "code",
   "execution_count": null,
   "id": "61e692bb",
   "metadata": {},
   "outputs": [],
   "source": [
    "hued_countplots('class')"
   ]
  },
  {
   "cell_type": "markdown",
   "id": "c56a107d",
   "metadata": {},
   "source": [
    "To summarise some takeaway points from these plots:\n",
    "\n",
    "- There is only one viel type and it is distributed equally between classes; it is a column that can be dropped.\n",
    "- There seems to be a big difference in the amount of bruising between poisonous and non-poisonous mushrooms.\n",
    "- Odor could be a reliable predictor of mushroom class as it shows edible and poisonous mushrooms tend to have different smells. <small>*(Based on my mushroom knowledge as a biologist, this could potentially be the key to success for our model! Especially considering how many odourless and edible mushrooms there are in our dataset.)*</small>\n",
    "- Gill size is generally broader in edible mushrooms and narrower in poisonous. \n",
    "- A buff gill colour could be a good indicator of a poisonous mushroom.\n",
    "- Surface above and below stalk might be able to be differentiated between mushroom classes.\n",
    "- Spore print colour is quite differentiated between classes."
   ]
  },
  {
   "cell_type": "code",
   "execution_count": 15,
   "id": "4d9c57ca",
   "metadata": {},
   "outputs": [],
   "source": [
    "mushies.drop(columns = 'veil_type', axis = 1, inplace = True)"
   ]
  },
  {
   "cell_type": "code",
   "execution_count": null,
   "id": "7f7aec5f",
   "metadata": {},
   "outputs": [],
   "source": [
    "# List features we think could relate to class\n",
    "interesting_features = ['bruises', 'odor', 'gill_size', 'gill_colour', 'stalk_surface_above_ring', \n",
    "                        'stalk_surface_below_ring', 'spore_print_color']"
   ]
  },
  {
   "cell_type": "markdown",
   "id": "aa24ecec",
   "metadata": {},
   "source": [
    "## Imputing null or missing values\n",
    "---\n",
    "I now create a data frame where i drop the 'stalk_root' feature and a second data frame with only those observations that are missing the values for this variable. "
   ]
  },
  {
   "cell_type": "code",
   "execution_count": null,
   "id": "f396debe",
   "metadata": {},
   "outputs": [],
   "source": [
    "# SUPERVISED DATASET WITH NO STALK ROOT\n",
    "mushies_supervised = mushies.drop(columns = 'stalk_root', axis = 1)\n",
    "mushies_supervised.to_csv('../Results/mushies_supervised.csv')"
   ]
  },
  {
   "cell_type": "code",
   "execution_count": null,
   "id": "05c27d5c",
   "metadata": {},
   "outputs": [],
   "source": [
    "## DATASET WHICH CAN BE USED TO IMPUTE NULLS\n",
    "mushies.to_csv('../Results/mushies_unsupervised.csv')"
   ]
  },
  {
   "cell_type": "markdown",
   "id": "ef9fb633",
   "metadata": {},
   "source": [
    "I played around with clustering algorithms to try and impute the missing values in stalk root. I end up with predictions from a K-Nearest-Neighbour algorithm (KNN) and a K-Means algorithm (KM). The KNN prediction has good validation metrics, while the KM's optimal number of clusters coincides with the number of unique labels for stalk root present in our data, which sounds promising. Because I haven't had much time to explore the biological meaning of the KM analysis, i'll stick to the supervised approach, which is very reliable anyway."
   ]
  },
  {
   "cell_type": "code",
   "execution_count": 16,
   "id": "4396349e",
   "metadata": {},
   "outputs": [],
   "source": [
    "mushies_imputed = pd.read_csv('../Results/mushies_imputed.csv', index_col = 0)\n",
    "# key_stats(mushies_imputed)"
   ]
  },
  {
   "cell_type": "code",
   "execution_count": 17,
   "id": "4c4d410a",
   "metadata": {},
   "outputs": [],
   "source": [
    "# make a column indicating if a value is imputed for stalk root\n",
    "mushies_imputed['stalk_imputed'] = mushies_imputed['knn_stalk_root'].apply(pd.isna)\n"
   ]
  },
  {
   "cell_type": "code",
   "execution_count": 18,
   "id": "90998325",
   "metadata": {},
   "outputs": [],
   "source": [
    "# merge imputed and original stalk root columns\n",
    "mushies_imputed['stalk_root'] = mushies_imputed['stalk_root'].fillna(mushies_imputed['knn_stalk_root'])   \n",
    "\n",
    "# drop purely imputed columns\n",
    "mushies_imputed.drop(columns = ['kmns_stalk_root', 'knn_stalk_root'], axis = 1, inplace = True)"
   ]
  },
  {
   "cell_type": "markdown",
   "id": "92b5825b",
   "metadata": {},
   "source": [
    "With missing stalk root values now in the data frame and imputed, lets check over key stats again: "
   ]
  },
  {
   "cell_type": "code",
   "execution_count": null,
   "id": "5b384d8d",
   "metadata": {},
   "outputs": [],
   "source": [
    "key_stats(mushies_imputed)"
   ]
  },
  {
   "cell_type": "markdown",
   "id": "f2c46b87",
   "metadata": {},
   "source": [
    "Great! We have all the data now. We can think about some modelling.\n",
    "## Modelling\n",
    "---\n",
    "### Dependencies"
   ]
  },
  {
   "cell_type": "code",
   "execution_count": 19,
   "id": "0bcac7c3",
   "metadata": {},
   "outputs": [],
   "source": [
    "from sklearn.model_selection import train_test_split\n",
    "from sklearn.tree import DecisionTreeClassifier\n",
    "from sklearn.metrics import classification_report, confusion_matrix, roc_auc_score, roc_curve\n",
    "from sklearn import tree\n",
    "from sklearn.linear_model import LogisticRegression"
   ]
  },
  {
   "cell_type": "markdown",
   "id": "befa822a",
   "metadata": {},
   "source": [
    "### Useful functions"
   ]
  },
  {
   "cell_type": "code",
   "execution_count": 20,
   "id": "bafe4b4a",
   "metadata": {},
   "outputs": [],
   "source": [
    "def feat_eng(df):\n",
    "    df = pd.get_dummies(df, columns = features, drop_first = True)\n",
    "    return df"
   ]
  },
  {
   "cell_type": "code",
   "execution_count": 21,
   "id": "341c7262",
   "metadata": {},
   "outputs": [],
   "source": [
    "def dt_feat_importance(dt_model, X_train):\n",
    "    \n",
    "    # Extract importances\n",
    "    importances = dt_model.feature_importances_\n",
    "    \n",
    "    # Get the indeces of sorted importances\n",
    "    sorted_indices = np.argsort(importances)[::-1]\n",
    "    \n",
    "    # DataFrame for importances for the function to return\n",
    "    df_importances = pd.DataFrame(list(zip(list(X_train.columns), importances)), columns = ['Feature', 'Gini_Importance'])\n",
    "    df_importances = df_importances.sort_values('Gini_Importance', ascending = False).reset_index(drop = True)\n",
    "    \n",
    "    summed_imp = [0]\n",
    "    for value in df_importances['Gini_Importance']:\n",
    "        summed_imp.append(summed_imp[-1]+value)\n",
    "        \n",
    "    df_importances['Summed_Importance'] = summed_imp[1:]\n",
    "    \n",
    "    # Barplot for descreasing importances\n",
    "    plt.figure(figsize = (16,8))\n",
    "    plt.title(\"RF Feature Importances\")\n",
    "    plt.bar(range(X_train.shape[1]), importances[sorted_indices], align='center')\n",
    "    plt.xticks(range(X_train.shape[1]), X_train.columns[sorted_indices], rotation=90)\n",
    "    plt.tight_layout()\n",
    "    plt.show()\n",
    "    \n",
    "    return df_importances"
   ]
  },
  {
   "cell_type": "code",
   "execution_count": 22,
   "id": "57dac317",
   "metadata": {},
   "outputs": [],
   "source": [
    "def plot_confmat(y_te, y_pr, neg_label, pos_label):\n",
    "    ax = plt.subplot()\n",
    "    \n",
    "    sns.heatmap(confusion_matrix(y_te, y_pr), annot = True, fmt = 'g')\n",
    "    \n",
    "    ax.set_xlabel('Predicted labels')\n",
    "    ax.set_ylabel('Real labels')\n",
    "    \n",
    "    ax.set_title('Confusion Matrix')\n",
    "    \n",
    "    ax.xaxis.set_ticklabels([neg_label, pos_label])\n",
    "    ax.yaxis.set_ticklabels([neg_label, pos_label])\n",
    "    \n",
    "    return\n",
    "\n",
    "def plot_roc_auc(y_test, y_pred):\n",
    "    \n",
    "    roc_auc = roc_auc_score(y_test, y_pred)\n",
    "    \n",
    "    fpr, tpr, thresholds = roc_curve(y_test, y_pred)\n",
    "    \n",
    "    plt.figure()\n",
    "    plt.title('Receiver operating characteristic')\n",
    "    plt.plot(fpr, tpr, label = f'KNN (area = {roc_auc:.2f})', color = 'pink')\n",
    "    plt.legend(loc=\"lower right\")\n",
    "    plt.xlabel('False Positive Rate')\n",
    "    plt.ylabel('True Positive Rate')\n",
    "    plt.plot([0, 1], [0, 1],'c--')\n",
    "     \n",
    "    plt.show()\n",
    "    \n",
    "    return\n",
    "\n",
    "def full_classification_report(X_tr, X_te, y_tr, y_te, model):\n",
    "    \n",
    "    # Train\n",
    "    y_pred_train = model.predict(X_tr)\n",
    "    print('###################### TRAIN SET ######################\\n\\n', \n",
    "          classification_report(y_tr, y_pred_train), '\\n\\n')\n",
    "\n",
    "    # Test\n",
    "    y_pred = model.predict(X_te)\n",
    "    print('###################### TEST SET ######################\\n\\n', \n",
    "          classification_report(y_te, y_pred))\n",
    "    \n",
    "    return"
   ]
  },
  {
   "cell_type": "markdown",
   "id": "a1722cfc",
   "metadata": {},
   "source": [
    "### Let's get down to business"
   ]
  },
  {
   "cell_type": "markdown",
   "id": "c7bb0d12",
   "metadata": {},
   "source": [
    "Traditionally, mushrooms are identified using mushroom identification guides (actually it's just an obsessive amount of practice, but you have to start somewhere). These guides are much like decision trees, where a question is asked about a mushroom trait, which then takes us down a new line of questioning to identify the type of mushroom, and thus, if it's poisonous. Because of this, I think the most fitting algorithm to run would be a tree-based one. Let's start with running a decision tree with class (edible/poisonous) as the target variable. From there I can figure out some feature importances, which will help me see if the the features I thought were interesting are actually useful to predict whether or not a mushroom is poisonous."
   ]
  },
  {
   "cell_type": "code",
   "execution_count": 23,
   "id": "fa98891e",
   "metadata": {},
   "outputs": [],
   "source": [
    "# Define the features and target variables\n",
    "target = 'class'\n",
    "features = [feature for feature in list(mushies_imputed.columns) if feature not in target]\n",
    "# features.remove('stalk_root')"
   ]
  },
  {
   "cell_type": "code",
   "execution_count": 24,
   "id": "0b6297ef",
   "metadata": {},
   "outputs": [
    {
     "name": "stdout",
     "output_type": "stream",
     "text": [
      "['cap_shape', 'cap_surface', 'cap_color', 'bruises', 'odor', 'gill_attachment', 'gill_spacing', 'gill_size', 'gill_color', 'stalk_shape', 'stalk_root', 'stalk_surface_above_ring', 'stalk_surface_below_ring', 'stalk_color_above_ring', 'stalk_color_below_ring', 'veil_color', 'ring_number', 'ring_type', 'spore_print_color', 'population', 'habitat', 'stalk_imputed']\n"
     ]
    }
   ],
   "source": [
    "print(features)"
   ]
  },
  {
   "cell_type": "code",
   "execution_count": 25,
   "id": "cc31dcc5",
   "metadata": {},
   "outputs": [],
   "source": [
    "# Define X and y \n",
    "X = mushies_imputed[features].copy()\n",
    "y = mushies_imputed[target].copy()\n",
    "\n",
    "# Split the data\n",
    "X_train, X_test, y_train, y_test = train_test_split(X, y, test_size = 0.35, random_state = 40)"
   ]
  },
  {
   "cell_type": "markdown",
   "id": "025d5908",
   "metadata": {},
   "source": [
    "It's time for some feature engineering. All of our features are categorical so we need to convert them to numerical somehow. I don't like the idea of using a Label Encoder because it might indicate some sort of ordinality between variables, when there isnt. Because of this, it makes more sense to One Hot Encode (OHE) them: "
   ]
  },
  {
   "cell_type": "code",
   "execution_count": 26,
   "id": "afa5dd5d",
   "metadata": {},
   "outputs": [],
   "source": [
    "# Feature engineer training set\n",
    "X_train_eng = feat_eng(X_train)\n",
    "y_train_eng = y_train.map({'edible':0, 'poisonous':1})\n",
    "\n",
    "# Feature engineer test set\n",
    "X_test_eng = feat_eng(X_test)\n",
    "y_test_eng = y_test.map({'edible':0, 'poisonous':1})"
   ]
  },
  {
   "cell_type": "markdown",
   "id": "3aa7d221",
   "metadata": {},
   "source": [
    "The only downside to OHE is that for every feature you encode, you have to drop one of it's labels to ensure there's not too much multicollinearity. The risk we run with this method is losing out on some information, and this information might have actually been quite useful to our model. Let's hope this is not the case and we still get a good model! "
   ]
  },
  {
   "cell_type": "code",
   "execution_count": 27,
   "id": "ed9c9117",
   "metadata": {},
   "outputs": [
    {
     "data": {
      "text/plain": [
       "DecisionTreeClassifier(random_state=42)"
      ]
     },
     "execution_count": 27,
     "metadata": {},
     "output_type": "execute_result"
    }
   ],
   "source": [
    "# Declare and fit the DecisionTree\n",
    "dt = DecisionTreeClassifier(random_state = 42)\n",
    "dt.fit(X_train_eng, y_train_eng)"
   ]
  },
  {
   "cell_type": "code",
   "execution_count": 28,
   "id": "6d40d6fc",
   "metadata": {},
   "outputs": [
    {
     "name": "stdout",
     "output_type": "stream",
     "text": [
      "###################### TRAIN SET ######################\n",
      "\n",
      "               precision    recall  f1-score   support\n",
      "\n",
      "           0       1.00      1.00      1.00      2738\n",
      "           1       1.00      1.00      1.00      2542\n",
      "\n",
      "    accuracy                           1.00      5280\n",
      "   macro avg       1.00      1.00      1.00      5280\n",
      "weighted avg       1.00      1.00      1.00      5280\n",
      " \n",
      "\n",
      "\n",
      "###################### TEST SET ######################\n",
      "\n",
      "               precision    recall  f1-score   support\n",
      "\n",
      "           0       1.00      1.00      1.00      1470\n",
      "           1       1.00      1.00      1.00      1374\n",
      "\n",
      "    accuracy                           1.00      2844\n",
      "   macro avg       1.00      1.00      1.00      2844\n",
      "weighted avg       1.00      1.00      1.00      2844\n",
      "\n"
     ]
    }
   ],
   "source": [
    "full_classification_report(X_train_eng, X_test_eng, y_train_eng, y_test_eng, dt)"
   ]
  },
  {
   "cell_type": "code",
   "execution_count": null,
   "id": "65c675d9",
   "metadata": {},
   "outputs": [],
   "source": [
    "# plot_confmat(y_test_eng, y_pred, 'poisonous', 'edible')\n",
    "# plot_roc_auc(y_test_eng, y_pred)"
   ]
  },
  {
   "cell_type": "markdown",
   "id": "0adbfd99",
   "metadata": {},
   "source": [
    "Wow!! Perfect scores!! Recall is what would make sure there are the least amount of false negatives, and it's perfect. Let's check out some feature importances:"
   ]
  },
  {
   "cell_type": "code",
   "execution_count": 29,
   "id": "7c83bcbe",
   "metadata": {},
   "outputs": [
    {
     "data": {
      "image/png": "[encoded data removed]",
      "text/plain": [
       "<Figure size 1152x576 with 1 Axes>"
      ]
     },
     "metadata": {
      "needs_background": "light"
     },
     "output_type": "display_data"
    }
   ],
   "source": [
    "feat_imp = dt_feat_importance(dt, X_train_eng)"
   ]
  },
  {
   "cell_type": "code",
   "execution_count": 34,
   "id": "f72bad59",
   "metadata": {},
   "outputs": [],
   "source": [
    "feat_imp.round(3).head(15).to_csv('Blog/tables/feature_imp.csv')"
   ]
  },
  {
   "cell_type": "markdown",
   "id": "f9b23e99",
   "metadata": {},
   "source": [
    "Unsurprisingly, a lack of odor is a useful feature in the model (the most useful), and it holds over 60% of the predicitve power in identifying poisonous mushrooms. We also see a few of the other features we thought would be interesting, here's a reminder of them: "
   ]
  },
  {
   "cell_type": "code",
   "execution_count": null,
   "id": "fec51a3a",
   "metadata": {},
   "outputs": [],
   "source": [
    "interesting_features"
   ]
  },
  {
   "cell_type": "markdown",
   "id": "ec07f104",
   "metadata": {},
   "source": [
    "Seeing these features also identified by the model makes me feel like my EDA was very productive! Let's make a new tree with only the top 12 most important features, since they represent almost 100% of the predictive power of the model."
   ]
  },
  {
   "cell_type": "code",
   "execution_count": null,
   "id": "2348f6f9",
   "metadata": {},
   "outputs": [],
   "source": [
    "# Select features of interest in training and test sets\n",
    "select_interesting = list(feat_imp['Feature'][:12])\n",
    "X_train_important = X_train_eng[select_interesting]\n",
    "X_test_important = X_test_eng[select_interesting]\n",
    "\n",
    "# Declare and fit the Decision Tree\n",
    "dt_important = DecisionTreeClassifier(random_state = 42)\n",
    "dt_important.fit(X_train_important, y_train_eng)\n",
    "\n",
    "# Test\n",
    "full_classification_report(X_train_important, X_test_important, y_train_eng, y_test_eng, dt_important)"
   ]
  },
  {
   "cell_type": "code",
   "execution_count": null,
   "id": "43f46af8",
   "metadata": {},
   "outputs": [],
   "source": [
    "# plot_confmat(y_test_eng, y_pred_important, 'edible', 'poisonous')\n",
    "# plot_roc_auc(y_test_eng, y_pred_important)"
   ]
  },
  {
   "cell_type": "markdown",
   "id": "fbc3c139",
   "metadata": {},
   "source": [
    "Even with just 12 OHE features, we get amazing evaluation metrics. Lets see what this tree looks like, and what decisions it's making:"
   ]
  },
  {
   "cell_type": "code",
   "execution_count": null,
   "id": "1e7e88fc",
   "metadata": {},
   "outputs": [],
   "source": [
    "plt.figure(figsize = (18,15))\n",
    "important_tree = plt.subplot()\n",
    "null_var = tree.plot_tree(dt_important,\n",
    "                          rounded = True,\n",
    "                          feature_names = select_interesting,\n",
    "                          class_names = ['edible', 'poisonous'], # dt_important.classes_ = [0,1]\n",
    "                          filled = True,\n",
    "                          ax = important_tree)\n",
    "important_tree"
   ]
  },
  {
   "cell_type": "markdown",
   "id": "15f8e7d9",
   "metadata": {},
   "source": [
    "This means using this decision tree will tell us if a mushroom is poisonous after asking at most 9 questions about the mushroom traits, thats pretty good!\n",
    "\n",
    "Lets have a look at a logistic regression too, for peace of mind."
   ]
  },
  {
   "cell_type": "code",
   "execution_count": null,
   "id": "146c0247",
   "metadata": {},
   "outputs": [],
   "source": [
    "# For all the features OHE\n",
    "lr = LogisticRegression(random_state = 40)\n",
    "lr.fit(X_train_eng, y_train_eng)\n",
    "\n",
    "# Test\n",
    "full_classification_report(X_train_eng, X_test_eng, y_train_eng, y_test_eng, lr)"
   ]
  },
  {
   "cell_type": "code",
   "execution_count": null,
   "id": "73322c1b",
   "metadata": {},
   "outputs": [],
   "source": [
    "# For only the most important features\n",
    "lr_important = LogisticRegression(random_state = 40)\n",
    "lr_important.fit(X_train_important, y_train_eng)\n",
    "\n",
    "# Test\n",
    "full_classification_report(X_train_important, X_test_important, y_train_eng, y_test_eng, lr_important)\n",
    "# plot_confmat(y_test_eng, y_pred_logreg_important, 'edible', 'poisonous')"
   ]
  },
  {
   "cell_type": "markdown",
   "id": "ae324c0f",
   "metadata": {},
   "source": [
    "Train and test scores are the same - indicating good model performance. I would use the decision tree if you're out mushroom picking, especially if you're unsure about your foraging skills!"
   ]
  },
  {
   "cell_type": "markdown",
   "id": "7286be6d",
   "metadata": {},
   "source": [
    "\n",
    "---\n",
    "#### EXTRA MODEL FOR THE SANITY OF THE BIOLOGIST IN ME\n",
    "\n"
   ]
  },
  {
   "cell_type": "code",
   "execution_count": null,
   "id": "c94c2cac",
   "metadata": {},
   "outputs": [],
   "source": [
    "# I know odor is enough to tell if a mushroom is poisonous or not. \n",
    "# Lets make a Logistic regression with only OHE odor as features. The feature left out will be almond by default, \n",
    "# as it is the first label in the feature alphabetically. Since all almond smelling mushrooms in our dataset \n",
    "# are edible, we are not unintentionally losing information about our target variable.\n",
    "\n",
    "X_train_extra = feat_eng(X_train['odor'])\n",
    "X_test_extra = feat_eng(X_test['odor'])\n",
    "\n",
    "lr_extra = LogisticRegression(random_state = 40)\n",
    "lr_extra.fit(X_train_extra, y_train_eng)\n",
    "\n",
    "# Test\n",
    "full_classification_report(X_train_extra, X_test_extra, y_train_eng, y_test_eng, lr_extra)"
   ]
  },
  {
   "cell_type": "code",
   "execution_count": null,
   "id": "e7c94963",
   "metadata": {},
   "outputs": [],
   "source": [
    "# plot_confmat(y_test_eng, y_pred_logreg_extra, 'edible', 'poisonous')\n",
    "# plot_roc_auc(y_test_eng, y_pred_logreg_extra)"
   ]
  },
  {
   "cell_type": "code",
   "execution_count": null,
   "id": "dea6738f",
   "metadata": {},
   "outputs": [],
   "source": [
    "# Our recall for poisonous mushrooms is high in the test set, although we do predict some false negatives (saying a mushroom \n",
    "# is edible when it isn't). This could also be a good predictive model, but considering there is error (which can cause \n",
    "# death), you could practice you poisonous mushroom detection as a human instead (or use the decision tree from above). \n",
    "# Happy mushrooming!"
   ]
  }
 ],
 "metadata": {
  "kernelspec": {
   "display_name": "Python 3 (ipykernel)",
   "language": "python",
   "name": "python3"
  },
  "language_info": {
   "codemirror_mode": {
    "name": "ipython",
    "version": 3
   },
   "file_extension": ".py",
   "mimetype": "text/x-python",
   "name": "python",
   "nbconvert_exporter": "python",
   "pygments_lexer": "ipython3",
   "version": "3.9.7"
  }
 },
 "nbformat": 4,
 "nbformat_minor": 5
}
